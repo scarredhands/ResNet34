{
 "cells": [
  {
   "cell_type": "code",
   "execution_count": 1,
   "id": "b740c315",
   "metadata": {
    "execution": {
     "iopub.execute_input": "2024-06-10T10:55:37.714210Z",
     "iopub.status.busy": "2024-06-10T10:55:37.713942Z",
     "iopub.status.idle": "2024-06-10T10:55:51.811048Z",
     "shell.execute_reply": "2024-06-10T10:55:51.810273Z"
    },
    "papermill": {
     "duration": 14.105555,
     "end_time": "2024-06-10T10:55:51.813435",
     "exception": false,
     "start_time": "2024-06-10T10:55:37.707880",
     "status": "completed"
    },
    "tags": []
   },
   "outputs": [
    {
     "name": "stderr",
     "output_type": "stream",
     "text": [
      "2024-06-10 10:55:40.870636: E external/local_xla/xla/stream_executor/cuda/cuda_dnn.cc:9261] Unable to register cuDNN factory: Attempting to register factory for plugin cuDNN when one has already been registered\n",
      "2024-06-10 10:55:40.870736: E external/local_xla/xla/stream_executor/cuda/cuda_fft.cc:607] Unable to register cuFFT factory: Attempting to register factory for plugin cuFFT when one has already been registered\n",
      "2024-06-10 10:55:41.032218: E external/local_xla/xla/stream_executor/cuda/cuda_blas.cc:1515] Unable to register cuBLAS factory: Attempting to register factory for plugin cuBLAS when one has already been registered\n"
     ]
    }
   ],
   "source": [
    "import pandas as pd\n",
    "import numpy as np\n",
    "import matplotlib.pyplot as plt\n",
    "import os\n",
    "import cv2\n",
    "import random\n",
    "import tensorflow as tf\n",
    "from tensorflow.keras.models import Sequential\n",
    "from tensorflow.keras.layers import Conv2D, MaxPooling2D, Dense, Flatten, Dropout, Activation, Add, GlobalAveragePooling2D\n",
    "from tensorflow.keras import layers, models\n",
    "from tensorflow.keras.layers import Input, BatchNormalization"
   ]
  },
  {
   "cell_type": "code",
   "execution_count": 2,
   "id": "c8552ba0",
   "metadata": {
    "execution": {
     "iopub.execute_input": "2024-06-10T10:55:51.836118Z",
     "iopub.status.busy": "2024-06-10T10:55:51.835069Z",
     "iopub.status.idle": "2024-06-10T10:55:51.839615Z",
     "shell.execute_reply": "2024-06-10T10:55:51.838722Z"
    },
    "papermill": {
     "duration": 0.014117,
     "end_time": "2024-06-10T10:55:51.841432",
     "exception": false,
     "start_time": "2024-06-10T10:55:51.827315",
     "status": "completed"
    },
    "tags": []
   },
   "outputs": [],
   "source": [
    "dataset_path='/kaggle/input/realifake/Realifake'"
   ]
  },
  {
   "cell_type": "code",
   "execution_count": 3,
   "id": "e75f5706",
   "metadata": {
    "execution": {
     "iopub.execute_input": "2024-06-10T10:55:51.851810Z",
     "iopub.status.busy": "2024-06-10T10:55:51.851568Z",
     "iopub.status.idle": "2024-06-10T10:55:51.858223Z",
     "shell.execute_reply": "2024-06-10T10:55:51.857349Z"
    },
    "papermill": {
     "duration": 0.014015,
     "end_time": "2024-06-10T10:55:51.860077",
     "exception": false,
     "start_time": "2024-06-10T10:55:51.846062",
     "status": "completed"
    },
    "tags": []
   },
   "outputs": [],
   "source": [
    "def projection_block(x, filters, strides,padding='same'):\n",
    "    shortcut = x\n",
    "    x = conv_block(x, filters=filters, kernel_size=(1, 1), strides=strides,padding='same')\n",
    "    x = conv_block(x, filters=filters, kernel_size=(3, 3), strides=(1, 1),padding='same')\n",
    "    x = Conv2D(filters=filters * 4, kernel_size=(1, 1),padding='same')(x)\n",
    "    x = BatchNormalization()(x)\n",
    "    shortcut = Conv2D(filters=filters * 4, kernel_size=(1, 1), strides=strides,padding='same')(shortcut)\n",
    "    shortcut = BatchNormalization()(shortcut)\n",
    "    x = Add()([x, shortcut])\n",
    "    x = Activation('relu')(x)\n",
    "    return x"
   ]
  },
  {
   "cell_type": "code",
   "execution_count": 4,
   "id": "e766498c",
   "metadata": {
    "execution": {
     "iopub.execute_input": "2024-06-10T10:55:51.870264Z",
     "iopub.status.busy": "2024-06-10T10:55:51.870029Z",
     "iopub.status.idle": "2024-06-10T10:55:51.876780Z",
     "shell.execute_reply": "2024-06-10T10:55:51.875984Z"
    },
    "papermill": {
     "duration": 0.01391,
     "end_time": "2024-06-10T10:55:51.878571",
     "exception": false,
     "start_time": "2024-06-10T10:55:51.864661",
     "status": "completed"
    },
    "tags": []
   },
   "outputs": [],
   "source": [
    "def convolutional_block(x, filter):\n",
    "    # copy tensor to variable called x_skip\n",
    "    x_skip = x\n",
    "    # Layer 1\n",
    "    x = tf.keras.layers.Conv2D(filter, (3,3), padding = 'same', strides = (2,2))(x)\n",
    "    x = tf.keras.layers.BatchNormalization(axis=3)(x)\n",
    "    x = tf.keras.layers.Activation('relu')(x)\n",
    "    # Layer 2\n",
    "    x = tf.keras.layers.Conv2D(filter, (3,3), padding = 'same')(x)\n",
    "    x = tf.keras.layers.BatchNormalization(axis=3)(x)\n",
    "    # Processing Residue with conv(1,1)\n",
    "    x_skip = tf.keras.layers.Conv2D(filter, (1,1), strides = (2,2))(x_skip)\n",
    "    # Add Residue\n",
    "    x = tf.keras.layers.Add()([x, x_skip])     \n",
    "    x = tf.keras.layers.Activation('relu')(x)\n",
    "    return x"
   ]
  },
  {
   "cell_type": "code",
   "execution_count": 5,
   "id": "a800d2f3",
   "metadata": {
    "execution": {
     "iopub.execute_input": "2024-06-10T10:55:51.888851Z",
     "iopub.status.busy": "2024-06-10T10:55:51.888614Z",
     "iopub.status.idle": "2024-06-10T10:55:51.894767Z",
     "shell.execute_reply": "2024-06-10T10:55:51.893988Z"
    },
    "papermill": {
     "duration": 0.013387,
     "end_time": "2024-06-10T10:55:51.896549",
     "exception": false,
     "start_time": "2024-06-10T10:55:51.883162",
     "status": "completed"
    },
    "tags": []
   },
   "outputs": [],
   "source": [
    "def identity_block(x, filter):\n",
    "    # copy tensor to variable called x_skip\n",
    "    x_skip = x\n",
    "    # Layer 1\n",
    "    x = tf.keras.layers.Conv2D(filter, (3,3), padding = 'same')(x)\n",
    "    x = tf.keras.layers.BatchNormalization(axis=3)(x)\n",
    "    x = tf.keras.layers.Activation('relu')(x)\n",
    "    # Layer 2\n",
    "    x = tf.keras.layers.Conv2D(filter, (3,3), padding = 'same')(x)\n",
    "    x = tf.keras.layers.BatchNormalization(axis=3)(x)\n",
    "    # Add Residue\n",
    "    x = tf.keras.layers.Add()([x, x_skip])     \n",
    "    x = tf.keras.layers.Activation('relu')(x)\n",
    "    return x"
   ]
  },
  {
   "cell_type": "code",
   "execution_count": 6,
   "id": "b9f07514",
   "metadata": {
    "execution": {
     "iopub.execute_input": "2024-06-10T10:55:51.906957Z",
     "iopub.status.busy": "2024-06-10T10:55:51.906678Z",
     "iopub.status.idle": "2024-06-10T10:55:51.917172Z",
     "shell.execute_reply": "2024-06-10T10:55:51.916242Z"
    },
    "papermill": {
     "duration": 0.017836,
     "end_time": "2024-06-10T10:55:51.919166",
     "exception": false,
     "start_time": "2024-06-10T10:55:51.901330",
     "status": "completed"
    },
    "tags": []
   },
   "outputs": [],
   "source": [
    "def ResNet34(shape = (300, 300, 3), classes = 2):\n",
    "    # Step 1 (Setup Input Layer)\n",
    "    x_input = tf.keras.layers.Input(shape)\n",
    "    x = tf.keras.layers.ZeroPadding2D((3, 3))(x_input)\n",
    "    # Step 2 (Initial Conv layer along with maxPool)\n",
    "    x = tf.keras.layers.Conv2D(64, kernel_size=7, strides=2, padding='same')(x)\n",
    "    x = tf.keras.layers.BatchNormalization()(x)\n",
    "    x = tf.keras.layers.Activation('relu')(x)\n",
    "    x = tf.keras.layers.MaxPool2D(pool_size=3, strides=2, padding='same')(x)\n",
    "    # Define size of sub-blocks and initial filter size\n",
    "    block_layers = [3, 4, 6, 3]\n",
    "    filter_size = 64\n",
    "    # Step 3 Add the Resnet Blocks\n",
    "    for i in range(4):\n",
    "        if i == 0:\n",
    "            # For sub-block 1 Residual/Convolutional block not needed\n",
    "            for j in range(block_layers[i]):\n",
    "                x = identity_block(x, filter_size)\n",
    "        else:\n",
    "            # One Residual/Convolutional Block followed by Identity blocks\n",
    "            # The filter size will go on increasing by a factor of 2\n",
    "            filter_size = filter_size*2\n",
    "            x = convolutional_block(x, filter_size)\n",
    "            for j in range(block_layers[i] - 1):\n",
    "                x = identity_block(x, filter_size)\n",
    "     # Step 4 End Dense Network\n",
    "         # Step 4 End Dense Network\n",
    "    x = tf.keras.layers.AveragePooling2D((2,2), padding = 'same')(x)\n",
    "    x = tf.keras.layers.Flatten()(x)\n",
    "    x = tf.keras.layers.Dense(512, activation = 'relu')(x)\n",
    "    x = tf.keras.layers.Dense(1, activation = 'sigmoid')(x)\n",
    "    model = tf.keras.models.Model(inputs = x_input, outputs = x, name = \"ResNet34\")\n",
    "    return model\n",
    "      "
   ]
  },
  {
   "cell_type": "code",
   "execution_count": 7,
   "id": "be6a7604",
   "metadata": {
    "execution": {
     "iopub.execute_input": "2024-06-10T10:55:51.929485Z",
     "iopub.status.busy": "2024-06-10T10:55:51.929187Z",
     "iopub.status.idle": "2024-06-10T10:55:51.932855Z",
     "shell.execute_reply": "2024-06-10T10:55:51.932040Z"
    },
    "papermill": {
     "duration": 0.011008,
     "end_time": "2024-06-10T10:55:51.934781",
     "exception": false,
     "start_time": "2024-06-10T10:55:51.923773",
     "status": "completed"
    },
    "tags": []
   },
   "outputs": [],
   "source": [
    "batch_size =256\n",
    "img_height = 300\n",
    "img_width = 300"
   ]
  },
  {
   "cell_type": "code",
   "execution_count": 8,
   "id": "91bce775",
   "metadata": {
    "execution": {
     "iopub.execute_input": "2024-06-10T10:55:51.945558Z",
     "iopub.status.busy": "2024-06-10T10:55:51.944875Z",
     "iopub.status.idle": "2024-06-10T10:59:56.383359Z",
     "shell.execute_reply": "2024-06-10T10:59:56.382554Z"
    },
    "papermill": {
     "duration": 244.446204,
     "end_time": "2024-06-10T10:59:56.385688",
     "exception": false,
     "start_time": "2024-06-10T10:55:51.939484",
     "status": "completed"
    },
    "tags": []
   },
   "outputs": [
    {
     "name": "stdout",
     "output_type": "stream",
     "text": [
      "Found 174425 files belonging to 2 classes.\n",
      "Using 104655 files for training.\n"
     ]
    }
   ],
   "source": [
    "train_ds = tf.keras.preprocessing.image_dataset_from_directory(\n",
    "    dataset_path,\n",
    "    validation_split=0.4,\n",
    "    subset=\"training\",\n",
    "    seed=123,\n",
    "    image_size=(img_height, img_width),\n",
    "    batch_size=batch_size\n",
    ")"
   ]
  },
  {
   "cell_type": "code",
   "execution_count": 9,
   "id": "a22c7dd8",
   "metadata": {
    "execution": {
     "iopub.execute_input": "2024-06-10T10:59:56.398264Z",
     "iopub.status.busy": "2024-06-10T10:59:56.397955Z",
     "iopub.status.idle": "2024-06-10T11:00:47.128548Z",
     "shell.execute_reply": "2024-06-10T11:00:47.127571Z"
    },
    "papermill": {
     "duration": 50.739326,
     "end_time": "2024-06-10T11:00:47.130954",
     "exception": false,
     "start_time": "2024-06-10T10:59:56.391628",
     "status": "completed"
    },
    "tags": []
   },
   "outputs": [
    {
     "name": "stdout",
     "output_type": "stream",
     "text": [
      "Found 174425 files belonging to 2 classes.\n",
      "Using 69770 files for validation.\n"
     ]
    }
   ],
   "source": [
    "val_ds = tf.keras.preprocessing.image_dataset_from_directory(\n",
    "    dataset_path,\n",
    "    validation_split=0.4,\n",
    "    subset=\"validation\",\n",
    "    seed=123,\n",
    "    image_size=(img_height, img_width),\n",
    "    batch_size=batch_size\n",
    ")"
   ]
  },
  {
   "cell_type": "code",
   "execution_count": 10,
   "id": "99dd2403",
   "metadata": {
    "execution": {
     "iopub.execute_input": "2024-06-10T11:00:47.142456Z",
     "iopub.status.busy": "2024-06-10T11:00:47.142120Z",
     "iopub.status.idle": "2024-06-10T11:00:47.146731Z",
     "shell.execute_reply": "2024-06-10T11:00:47.145886Z"
    },
    "papermill": {
     "duration": 0.012254,
     "end_time": "2024-06-10T11:00:47.148544",
     "exception": false,
     "start_time": "2024-06-10T11:00:47.136290",
     "status": "completed"
    },
    "tags": []
   },
   "outputs": [
    {
     "name": "stdout",
     "output_type": "stream",
     "text": [
      "['FAKE', 'REAL']\n"
     ]
    }
   ],
   "source": [
    "# Check class names\n",
    "class_names = train_ds.class_names\n",
    "print(class_names)"
   ]
  },
  {
   "cell_type": "code",
   "execution_count": 11,
   "id": "fca7e05a",
   "metadata": {
    "execution": {
     "iopub.execute_input": "2024-06-10T11:00:47.159698Z",
     "iopub.status.busy": "2024-06-10T11:00:47.159453Z",
     "iopub.status.idle": "2024-06-10T11:00:47.169455Z",
     "shell.execute_reply": "2024-06-10T11:00:47.168815Z"
    },
    "papermill": {
     "duration": 0.017713,
     "end_time": "2024-06-10T11:00:47.171316",
     "exception": false,
     "start_time": "2024-06-10T11:00:47.153603",
     "status": "completed"
    },
    "tags": []
   },
   "outputs": [],
   "source": [
    "test_ds = val_ds.take(int(len(val_ds) * 0.5))\n",
    "val_ds = val_ds.skip(int(len(val_ds) * 0.5))"
   ]
  },
  {
   "cell_type": "code",
   "execution_count": 12,
   "id": "2c18eeb1",
   "metadata": {
    "execution": {
     "iopub.execute_input": "2024-06-10T11:00:47.183104Z",
     "iopub.status.busy": "2024-06-10T11:00:47.182858Z",
     "iopub.status.idle": "2024-06-10T11:00:47.813427Z",
     "shell.execute_reply": "2024-06-10T11:00:47.812645Z"
    },
    "papermill": {
     "duration": 0.638727,
     "end_time": "2024-06-10T11:00:47.815720",
     "exception": false,
     "start_time": "2024-06-10T11:00:47.176993",
     "status": "completed"
    },
    "tags": []
   },
   "outputs": [],
   "source": [
    "model= ResNet34()"
   ]
  },
  {
   "cell_type": "code",
   "execution_count": 13,
   "id": "7b285d9f",
   "metadata": {
    "execution": {
     "iopub.execute_input": "2024-06-10T11:00:47.827494Z",
     "iopub.status.busy": "2024-06-10T11:00:47.827186Z",
     "iopub.status.idle": "2024-06-10T11:00:47.839084Z",
     "shell.execute_reply": "2024-06-10T11:00:47.838436Z"
    },
    "papermill": {
     "duration": 0.019723,
     "end_time": "2024-06-10T11:00:47.840876",
     "exception": false,
     "start_time": "2024-06-10T11:00:47.821153",
     "status": "completed"
    },
    "tags": []
   },
   "outputs": [],
   "source": [
    "model.compile(optimizer='adam',\n",
    "              loss='binary_crossentropy',  # Binary cross-entropy for binary classification\n",
    "              metrics=['accuracy'])"
   ]
  },
  {
   "cell_type": "code",
   "execution_count": 14,
   "id": "50d03739",
   "metadata": {
    "execution": {
     "iopub.execute_input": "2024-06-10T11:00:47.851927Z",
     "iopub.status.busy": "2024-06-10T11:00:47.851627Z",
     "iopub.status.idle": "2024-06-10T14:42:56.354460Z",
     "shell.execute_reply": "2024-06-10T14:42:56.353334Z"
    },
    "papermill": {
     "duration": 13328.716324,
     "end_time": "2024-06-10T14:42:56.562218",
     "exception": false,
     "start_time": "2024-06-10T11:00:47.845894",
     "status": "completed"
    },
    "tags": []
   },
   "outputs": [
    {
     "name": "stdout",
     "output_type": "stream",
     "text": [
      "Epoch 1/28\n"
     ]
    },
    {
     "name": "stderr",
     "output_type": "stream",
     "text": [
      "2024-06-10 11:02:16.163256: E external/local_xla/xla/service/slow_operation_alarm.cc:65] Trying algorithm eng0{} for conv (f32[64,3,7,7]{3,2,1,0}, u8[0]{0}) custom-call(f32[256,3,301,301]{3,2,1,0}, f32[256,64,153,153]{3,2,1,0}), window={size=7x7 stride=2x2 pad=5_5x5_5}, dim_labels=bf01_oi01->bf01, custom_call_target=\"__cudnn$convBackwardFilter\", backend_config={\"conv_result_scale\":1,\"activation_mode\":\"kNone\",\"side_input_scale\":0,\"leakyrelu_alpha\":0} is taking a while...\n",
      "2024-06-10 11:02:22.053983: E external/local_xla/xla/service/slow_operation_alarm.cc:133] The operation took 6.890903373s\n",
      "Trying algorithm eng0{} for conv (f32[64,3,7,7]{3,2,1,0}, u8[0]{0}) custom-call(f32[256,3,301,301]{3,2,1,0}, f32[256,64,153,153]{3,2,1,0}), window={size=7x7 stride=2x2 pad=5_5x5_5}, dim_labels=bf01_oi01->bf01, custom_call_target=\"__cudnn$convBackwardFilter\", backend_config={\"conv_result_scale\":1,\"activation_mode\":\"kNone\",\"side_input_scale\":0,\"leakyrelu_alpha\":0} is taking a while...\n",
      "2024-06-10 11:02:26.011161: E external/local_xla/xla/service/slow_operation_alarm.cc:65] Trying algorithm eng0{} for conv (f32[64,3,7,7]{3,2,1,0}, u8[0]{0}) custom-call(f32[256,3,301,301]{3,2,1,0}, f32[256,64,153,153]{3,2,1,0}), window={size=7x7 stride=2x2 pad=5_5x5_5}, dim_labels=bf01_oi01->bf01, custom_call_target=\"__cudnn$convBackwardFilter\", backend_config={\"conv_result_scale\":1,\"activation_mode\":\"kNone\",\"side_input_scale\":0,\"leakyrelu_alpha\":0} is taking a while...\n",
      "2024-06-10 11:02:33.066723: E external/local_xla/xla/service/slow_operation_alarm.cc:133] The operation took 8.05566451s\n",
      "Trying algorithm eng0{} for conv (f32[64,3,7,7]{3,2,1,0}, u8[0]{0}) custom-call(f32[256,3,301,301]{3,2,1,0}, f32[256,64,153,153]{3,2,1,0}), window={size=7x7 stride=2x2 pad=5_5x5_5}, dim_labels=bf01_oi01->bf01, custom_call_target=\"__cudnn$convBackwardFilter\", backend_config={\"conv_result_scale\":1,\"activation_mode\":\"kNone\",\"side_input_scale\":0,\"leakyrelu_alpha\":0} is taking a while...\n",
      "WARNING: All log messages before absl::InitializeLog() is called are written to STDERR\n",
      "I0000 00:00:1718017389.705501      78 device_compiler.h:186] Compiled cluster using XLA!  This line is logged at most once for the lifetime of the process.\n",
      "W0000 00:00:1718017389.774181      78 graph_launch.cc:671] Fallback to op-by-op mode because memset node breaks graph update\n"
     ]
    },
    {
     "name": "stdout",
     "output_type": "stream",
     "text": [
      "\u001b[1m408/409\u001b[0m \u001b[32m━━━━━━━━━━━━━━━━━━━\u001b[0m\u001b[37m━\u001b[0m \u001b[1m2s\u001b[0m 2s/step - accuracy: 0.5697 - loss: 2.5148"
     ]
    },
    {
     "name": "stderr",
     "output_type": "stream",
     "text": [
      "2024-06-10 11:20:49.751447: E external/local_xla/xla/service/slow_operation_alarm.cc:65] Trying algorithm eng0{} for conv (f32[64,3,7,7]{3,2,1,0}, u8[0]{0}) custom-call(f32[207,3,301,301]{3,2,1,0}, f32[207,64,153,153]{3,2,1,0}), window={size=7x7 stride=2x2 pad=5_5x5_5}, dim_labels=bf01_oi01->bf01, custom_call_target=\"__cudnn$convBackwardFilter\", backend_config={\"conv_result_scale\":1,\"activation_mode\":\"kNone\",\"side_input_scale\":0,\"leakyrelu_alpha\":0} is taking a while...\n",
      "2024-06-10 11:20:55.101066: E external/local_xla/xla/service/slow_operation_alarm.cc:133] The operation took 6.349796444s\n",
      "Trying algorithm eng0{} for conv (f32[64,3,7,7]{3,2,1,0}, u8[0]{0}) custom-call(f32[207,3,301,301]{3,2,1,0}, f32[207,64,153,153]{3,2,1,0}), window={size=7x7 stride=2x2 pad=5_5x5_5}, dim_labels=bf01_oi01->bf01, custom_call_target=\"__cudnn$convBackwardFilter\", backend_config={\"conv_result_scale\":1,\"activation_mode\":\"kNone\",\"side_input_scale\":0,\"leakyrelu_alpha\":0} is taking a while...\n",
      "2024-06-10 11:20:58.698806: E external/local_xla/xla/service/slow_operation_alarm.cc:65] Trying algorithm eng0{} for conv (f32[64,3,7,7]{3,2,1,0}, u8[0]{0}) custom-call(f32[207,3,301,301]{3,2,1,0}, f32[207,64,153,153]{3,2,1,0}), window={size=7x7 stride=2x2 pad=5_5x5_5}, dim_labels=bf01_oi01->bf01, custom_call_target=\"__cudnn$convBackwardFilter\", backend_config={\"conv_result_scale\":1,\"activation_mode\":\"kNone\",\"side_input_scale\":0,\"leakyrelu_alpha\":0} is taking a while...\n",
      "2024-06-10 11:21:03.115727: E external/local_xla/xla/service/slow_operation_alarm.cc:133] The operation took 5.417018829s\n",
      "Trying algorithm eng0{} for conv (f32[64,3,7,7]{3,2,1,0}, u8[0]{0}) custom-call(f32[207,3,301,301]{3,2,1,0}, f32[207,64,153,153]{3,2,1,0}), window={size=7x7 stride=2x2 pad=5_5x5_5}, dim_labels=bf01_oi01->bf01, custom_call_target=\"__cudnn$convBackwardFilter\", backend_config={\"conv_result_scale\":1,\"activation_mode\":\"kNone\",\"side_input_scale\":0,\"leakyrelu_alpha\":0} is taking a while...\n",
      "W0000 00:00:1718018494.191483      78 graph_launch.cc:671] Fallback to op-by-op mode because memset node breaks graph update\n"
     ]
    },
    {
     "name": "stdout",
     "output_type": "stream",
     "text": [
      "\u001b[1m409/409\u001b[0m \u001b[32m━━━━━━━━━━━━━━━━━━━━\u001b[0m\u001b[37m\u001b[0m \u001b[1m0s\u001b[0m 3s/step - accuracy: 0.5698 - loss: 2.5110"
     ]
    },
    {
     "name": "stderr",
     "output_type": "stream",
     "text": [
      "W0000 00:00:1718018569.397062      78 graph_launch.cc:671] Fallback to op-by-op mode because memset node breaks graph update\n",
      "W0000 00:00:1718018711.812674      77 graph_launch.cc:671] Fallback to op-by-op mode because memset node breaks graph update\n"
     ]
    },
    {
     "name": "stdout",
     "output_type": "stream",
     "text": [
      "\u001b[1m409/409\u001b[0m \u001b[32m━━━━━━━━━━━━━━━━━━━━\u001b[0m\u001b[37m\u001b[0m \u001b[1m1465s\u001b[0m 3s/step - accuracy: 0.5700 - loss: 2.5072 - val_accuracy: 0.7031 - val_loss: 0.5771\n",
      "Epoch 2/28\n",
      "\u001b[1m409/409\u001b[0m \u001b[32m━━━━━━━━━━━━━━━━━━━━\u001b[0m\u001b[37m\u001b[0m \u001b[1m1158s\u001b[0m 3s/step - accuracy: 0.8239 - loss: 0.3674 - val_accuracy: 0.8169 - val_loss: 0.3987\n",
      "Epoch 3/28\n",
      "\u001b[1m409/409\u001b[0m \u001b[32m━━━━━━━━━━━━━━━━━━━━\u001b[0m\u001b[37m\u001b[0m \u001b[1m1165s\u001b[0m 3s/step - accuracy: 0.8992 - loss: 0.2202 - val_accuracy: 0.8693 - val_loss: 0.2879\n",
      "Epoch 4/28\n",
      "\u001b[1m409/409\u001b[0m \u001b[32m━━━━━━━━━━━━━━━━━━━━\u001b[0m\u001b[37m\u001b[0m \u001b[1m1164s\u001b[0m 3s/step - accuracy: 0.9180 - loss: 0.1809 - val_accuracy: 0.7939 - val_loss: 0.4151\n",
      "Epoch 5/28\n",
      "\u001b[1m409/409\u001b[0m \u001b[32m━━━━━━━━━━━━━━━━━━━━\u001b[0m\u001b[37m\u001b[0m \u001b[1m1163s\u001b[0m 3s/step - accuracy: 0.9274 - loss: 0.1591 - val_accuracy: 0.8292 - val_loss: 0.3729\n",
      "Epoch 6/28\n",
      "\u001b[1m409/409\u001b[0m \u001b[32m━━━━━━━━━━━━━━━━━━━━\u001b[0m\u001b[37m\u001b[0m \u001b[1m1223s\u001b[0m 3s/step - accuracy: 0.9333 - loss: 0.1445 - val_accuracy: 0.8929 - val_loss: 0.2235\n",
      "Epoch 7/28\n",
      "\u001b[1m409/409\u001b[0m \u001b[32m━━━━━━━━━━━━━━━━━━━━\u001b[0m\u001b[37m\u001b[0m \u001b[1m1221s\u001b[0m 3s/step - accuracy: 0.9397 - loss: 0.1316 - val_accuracy: 0.8989 - val_loss: 0.2583\n",
      "Epoch 8/28\n",
      "\u001b[1m409/409\u001b[0m \u001b[32m━━━━━━━━━━━━━━━━━━━━\u001b[0m\u001b[37m\u001b[0m \u001b[1m1222s\u001b[0m 3s/step - accuracy: 0.9466 - loss: 0.1177 - val_accuracy: 0.8464 - val_loss: 0.3369\n",
      "Epoch 9/28\n",
      "\u001b[1m409/409\u001b[0m \u001b[32m━━━━━━━━━━━━━━━━━━━━\u001b[0m\u001b[37m\u001b[0m \u001b[1m1163s\u001b[0m 3s/step - accuracy: 0.9520 - loss: 0.1075 - val_accuracy: 0.8867 - val_loss: 0.3307\n",
      "Epoch 10/28\n",
      "\u001b[1m409/409\u001b[0m \u001b[32m━━━━━━━━━━━━━━━━━━━━\u001b[0m\u001b[37m\u001b[0m \u001b[1m1223s\u001b[0m 3s/step - accuracy: 0.9567 - loss: 0.0982 - val_accuracy: 0.8933 - val_loss: 0.3080\n",
      "Epoch 11/28\n",
      "\u001b[1m409/409\u001b[0m \u001b[32m━━━━━━━━━━━━━━━━━━━━\u001b[0m\u001b[37m\u001b[0m \u001b[1m1163s\u001b[0m 3s/step - accuracy: 0.9627 - loss: 0.0863 - val_accuracy: 0.9148 - val_loss: 0.2334\n"
     ]
    }
   ],
   "source": [
    "epochs = 28\n",
    "early_stopping = tf.keras.callbacks.EarlyStopping(monitor='val_loss', patience=5, restore_best_weights=True)\n",
    "\n",
    "history = model.fit(\n",
    "    train_ds,\n",
    "    validation_data=val_ds,\n",
    "    epochs=epochs,\n",
    "    callbacks=[early_stopping]\n",
    ")"
   ]
  },
  {
   "cell_type": "code",
   "execution_count": 15,
   "id": "8d8fe67c",
   "metadata": {
    "execution": {
     "iopub.execute_input": "2024-06-10T14:42:57.291526Z",
     "iopub.status.busy": "2024-06-10T14:42:57.291177Z",
     "iopub.status.idle": "2024-06-10T14:42:57.772946Z",
     "shell.execute_reply": "2024-06-10T14:42:57.772002Z"
    },
    "papermill": {
     "duration": 0.845871,
     "end_time": "2024-06-10T14:42:57.774900",
     "exception": false,
     "start_time": "2024-06-10T14:42:56.929029",
     "status": "completed"
    },
    "tags": []
   },
   "outputs": [
    {
     "data": {
      "image/png": "[encoded data removed]",
      "text/plain": [
       "<Figure size 1200x400 with 2 Axes>"
      ]
     },
     "metadata": {},
     "output_type": "display_data"
    }
   ],
   "source": [
    "# Plot training & validation accuracy values\n",
    "plt.figure(figsize=(12, 4))\n",
    "plt.subplot(1, 2, 1)\n",
    "plt.plot(history.history['accuracy'])\n",
    "plt.plot(history.history['val_accuracy'])\n",
    "plt.title('Model accuracy')\n",
    "plt.ylabel('Accuracy')\n",
    "plt.xlabel('Epoch')\n",
    "plt.legend(['Train', 'Validation'], loc='upper left')\n",
    "\n",
    "# Plot training & validation loss values\n",
    "plt.subplot(1, 2, 2)\n",
    "plt.plot(history.history['loss'])\n",
    "plt.plot(history.history['val_loss'])\n",
    "plt.title('Model loss')\n",
    "plt.ylabel('Loss')\n",
    "plt.xlabel('Epoch')\n",
    "plt.legend(['Train', 'Validation'], loc='upper left')\n",
    "\n",
    "plt.show()"
   ]
  }
 ],
 "metadata": {
  "kaggle": {
   "accelerator": "nvidiaTeslaT4",
   "dataSources": [
    {
     "datasetId": 3531487,
     "sourceId": 6156382,
     "sourceType": "datasetVersion"
    }
   ],
   "dockerImageVersionId": 30733,
   "isGpuEnabled": true,
   "isInternetEnabled": false,
   "language": "python",
   "sourceType": "notebook"
  },
  "kernelspec": {
   "display_name": "Python 3",
   "language": "python",
   "name": "python3"
  },
  "language_info": {
   "codemirror_mode": {
    "name": "ipython",
    "version": 3
   },
   "file_extension": ".py",
   "mimetype": "text/x-python",
   "name": "python",
   "nbconvert_exporter": "python",
   "pygments_lexer": "ipython3",
   "version": "3.10.13"
  },
  "papermill": {
   "default_parameters": {},
   "duration": 13647.159367,
   "end_time": "2024-06-10T14:43:01.937002",
   "environment_variables": {},
   "exception": null,
   "input_path": "__notebook__.ipynb",
   "output_path": "__notebook__.ipynb",
   "parameters": {},
   "start_time": "2024-06-10T10:55:34.777635",
   "version": "2.5.0"
  }
 },
 "nbformat": 4,
 "nbformat_minor": 5
}
